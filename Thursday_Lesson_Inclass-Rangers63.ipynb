{
 "cells": [
  {
   "cell_type": "markdown",
   "metadata": {},
   "source": [
    "# Object-Oriented-Programming (OOP)"
   ]
  },
  {
   "cell_type": "markdown",
   "metadata": {},
   "source": [
    "## Tasks Today:\n",
    "\n",
    "   \n",
    "\n",
    "1) <b>Creating a Class (Initializing/Declaring)</b> <br>\n",
    "2) <b>Using a Class (Instantiating)</b> <br>\n",
    " &nbsp;&nbsp;&nbsp;&nbsp; a) Creating One Instance <br>\n",
    " &nbsp;&nbsp;&nbsp;&nbsp; b) Creating Multiple Instances <br>\n",
    " &nbsp;&nbsp;&nbsp;&nbsp; c) In-Class Exercise #1 - Create a Class 'Car' and instantiate three different makes of cars <br>\n",
    "3) <b>The \\__init\\__() Method</b> <br>\n",
    " &nbsp;&nbsp;&nbsp;&nbsp; a) The 'self' Attribute <br>\n",
    "4) <b>Class Attributes</b> <br>\n",
    " &nbsp;&nbsp;&nbsp;&nbsp; a) Initializing Attributes <br>\n",
    " &nbsp;&nbsp;&nbsp;&nbsp; b) Setting an Attribute Outside of the \\__init\\__() Method <br>\n",
    " &nbsp;&nbsp;&nbsp;&nbsp; c) Setting Defaults for Attributes <br>\n",
    " &nbsp;&nbsp;&nbsp;&nbsp; d) Accessing Class Attributes <br>\n",
    " &nbsp;&nbsp;&nbsp;&nbsp; e) Changing Class Attributes <br>\n",
    " &nbsp;&nbsp;&nbsp;&nbsp; f) In-Class Exercise #2 - Add a color and wheels attribute to your 'Car' class <br>\n",
    "5) <b>Class Methods</b> <br>\n",
    " &nbsp;&nbsp;&nbsp;&nbsp; a) Creating <br>\n",
    " &nbsp;&nbsp;&nbsp;&nbsp; b) Calling <br>\n",
    " &nbsp;&nbsp;&nbsp;&nbsp; c) Modifying an Attribute's Value Through a Method <br>\n",
    " &nbsp;&nbsp;&nbsp;&nbsp; d) Incrementing an Attribute's Value Through a Method <br>\n",
    " &nbsp;&nbsp;&nbsp;&nbsp; e) In-Class Exercise #3 - Add a method that prints the cars color and wheel number, then call them <br>\n",
    "6) <b>Inheritance</b> <br>\n",
    " &nbsp;&nbsp;&nbsp;&nbsp; a) Syntax for Inheriting from a Parent Class <br>\n",
    " &nbsp;&nbsp;&nbsp;&nbsp; b) The \\__init\\__() Method for a Child Class (super()) <br>\n",
    " &nbsp;&nbsp;&nbsp;&nbsp; c) Defining Attributes and Methods for the Child Class <br>\n",
    " &nbsp;&nbsp;&nbsp;&nbsp; d) Method Overriding <br>\n",
    " &nbsp;&nbsp;&nbsp;&nbsp; e) In-Class Exercise #4 - Create a class 'Ford' that inherits from 'Car' class and initialize it as a Blue Ford Explorer with 4 wheels using the super() method <br>\n",
    "7) <b>Classes as Attributes</b> <br>\n",
    "8) <b>Exercises</b> <br>\n",
    " &nbsp;&nbsp;&nbsp;&nbsp; a) Exercise #1 - Turn the shopping cart program from yesterday into an object-oriented program <br>"
   ]
  },
  {
   "cell_type": "markdown",
   "metadata": {},
   "source": [
    "## Creating a Class (Initializing/Declaring)\n",
    "<p>When creating a class, function, or even a variable you are initializing that object. Initializing and Declaring occur at the same time in Python, whereas in lower level languages you have to declare an object before initializing it. This is the first step in the process of using a class.</p>"
   ]
  },
  {
   "cell_type": "code",
   "execution_count": 1,
   "metadata": {},
   "outputs": [],
   "source": [
    "class Car():\n",
    "    wheels = 4\n",
    "    color = 'blue'\n",
    "    \n",
    "# class ClassName:\n",
    "    # code for the class\n",
    "\n",
    "class Character: #all characters (char.a-c are current Sherlock Holmes and BBC's Sherlock until we redefine)\n",
    "    name = 'Sherlock Holmes'\n",
    "    show = \"BBS's Sherlock\""
   ]
  },
  {
   "cell_type": "markdown",
   "metadata": {},
   "source": [
    "## Using a Class (Instantiating)\n",
    "<p>The process of creating a class is called <i>Instantiating</i>. Each time you create a variable of that type of class, it is referred to as an <i>Instance</i> of that class. This is the second step in the process of using a class.</p>"
   ]
  },
  {
   "cell_type": "markdown",
   "metadata": {},
   "source": [
    "##### Creating One Instance"
   ]
  },
  {
   "cell_type": "code",
   "execution_count": 2,
   "metadata": {},
   "outputs": [
    {
     "name": "stdout",
     "output_type": "stream",
     "text": [
      "<class '__main__.Car'>\n",
      "<class '__main__.Character'>\n"
     ]
    }
   ],
   "source": [
    "# defining a variable as your class\n",
    "# variable_name = ClassName()\n",
    "\n",
    "ford = Car()\n",
    "print(type(ford))\n",
    "\n",
    "sherlock = Character()\n",
    "print(type(sherlock))\n",
    "\n"
   ]
  },
  {
   "cell_type": "markdown",
   "metadata": {},
   "source": [
    "##### Creating Multiple Instances"
   ]
  },
  {
   "cell_type": "code",
   "execution_count": 3,
   "metadata": {},
   "outputs": [
    {
     "name": "stdout",
     "output_type": "stream",
     "text": [
      "<__main__.Character object at 0x7fe0f17b0790>\n",
      "<__main__.Character object at 0x7fe0f17b0730>\n",
      "<__main__.Character object at 0x7fe0f17b07c0>\n",
      "Sherlock Holmes\n",
      "Santonio Holmes\n",
      "BBS's Sherlock\n",
      "Woody Strode\n",
      "Sherlock Holmes\n",
      "BBS's Sherlock\n"
     ]
    }
   ],
   "source": [
    "char_a = Character()\n",
    "char_b = Character()\n",
    "char_c = Character()\n",
    "\n",
    "print(char_a)\n",
    "print(char_b)\n",
    "print(char_c)\n",
    "\n",
    "# access the variables in my instances of a Character\n",
    "# by using dot notation\n",
    "# some people find hte difference betwen accessing one of these variable and calling a class method a little confusing \n",
    "# if we are access a varaible: instanceName.variable_name\n",
    "# if we are calling a class method: instanceName.method()\n",
    "# note that one has parenthesis (the method/function call) and the other does not (accessing the variable)\n",
    "\n",
    "print(char_a.name)\n",
    "\n",
    "# we can treat each instance's name variable differently \n",
    "# it's a normal variable we can redefine it, whatever\n",
    "\n",
    "char_a.name = 'Santonio Holmes'\n",
    "print(char_a.name)\n",
    "char_a.show = 'Psych'\n",
    "print(char_b.show)\n",
    "\n",
    "char_b.name = 'Woody Strode'\n",
    "print(char_b.name)\n",
    "char_b.show = 'Psych'\n",
    "\n",
    "\n",
    "print(char_c.name)\n",
    "print(char_c.show)\n",
    "\n"
   ]
  },
  {
   "cell_type": "markdown",
   "metadata": {},
   "source": [
    "##### In-Class Exercise #1 - Create a Class 'Car' and Instantiate three different makes of cars"
   ]
  },
  {
   "cell_type": "code",
   "execution_count": 4,
   "metadata": {},
   "outputs": [
    {
     "name": "stdout",
     "output_type": "stream",
     "text": [
      "Enzo\n",
      "Aston Martin DB5 Red\n"
     ]
    }
   ],
   "source": [
    "# at minimum, your class Car must havea make variable \n",
    "# year make model and color\n",
    "\n",
    "\n",
    "class Car: #default options\n",
    "    year = 2000\n",
    "    make = 'Ferrari'\n",
    "    model = 'Enzo'\n",
    "    colors = sorted(['Red','yellow','green'])\n",
    "    \n",
    "ferrari = Car()\n",
    "print(ferrari.model)\n",
    "\n",
    "aston = Car() #make new options\n",
    "# aston.make = 'Aston Martin'\n",
    "# aston.model = 'DB5'\n",
    "aston.make, aston.model = 'Aston Martin', 'DB5' # example of multiple variable assignment on single line \n",
    "# don't do it unless needed (swapping) -> it's less readible, performance is unchanged form having it on sep lanes\n",
    "aston.colors = aston.colors[0]\n",
    "print(aston.make, aston.model, aston.colors)\n",
    "\n",
    "#modifying items in class Car, create instances aka redefining\n",
    "\n",
    "\n",
    "\n",
    "\n",
    "\n"
   ]
  },
  {
   "cell_type": "markdown",
   "metadata": {},
   "source": [
    "## The \\__init\\__() Method <br>\n",
    "<p>This method is used in almost every created class, and called only once upon the creation of the class instance. This method will initialize all variables needed for the object.</p>"
   ]
  },
  {
   "cell_type": "code",
   "execution_count": 5,
   "metadata": {},
   "outputs": [
    {
     "name": "stdout",
     "output_type": "stream",
     "text": [
      "<__main__.Car object at 0x7fe0f17b0520>\n",
      "{'year': 2000, 'make': 'Ferrari', 'model': 'Enzo', 'color': 'Red'}\n",
      "<__main__.Car object at 0x7fe0f17b0400>\n",
      "{'year': 1986, 'make': 'Aston Martin', 'model': 'DB5', 'color': 'Green'}\n",
      "<__main__.Car object at 0x7fe0f17b0280>\n",
      "{'year': 2020, 'make': 'Mclaren', 'model': 'P1', 'color': 'Orange/Black'}\n"
     ]
    }
   ],
   "source": [
    "# a class is an object if it has attributes \n",
    "\n",
    "class Car: \n",
    "    def __init__(self, year, make,model,color): #has 2 underscores before and after, predefined method with specific purpose, must be (self)\n",
    "        self.year = year\n",
    "        self.make = make\n",
    "        self.model = model\n",
    "        self.color = color\n",
    "\n",
    "#self is the placeholder for the anme of the instance/object \n",
    "ferrari = Car(2000,'Ferrari','Enzo','Red')\n",
    "print(ferrari)\n",
    "print(ferrari.__dict__)\n",
    "\n",
    "# # the oject.__dict__ special atrribute takes our class' attricutes and puts them in a dictionary for us \n",
    "aston = Car(1986, 'Aston Martin', 'DB5', 'Green')\n",
    "print(aston)\n",
    "print(aston.__dict__)\n",
    "\n",
    "\n",
    "mclaren = Car(2020,'Mclaren','P1','Orange/Black')\n",
    "print(mclaren)\n",
    "print(mclaren.__dict__)\n",
    "\n",
    "\n"
   ]
  },
  {
   "cell_type": "markdown",
   "metadata": {},
   "source": [
    "##### The 'self' Attribute <br>\n",
    "<p>This attribute is required to keep track of specific instance's attributes. Without the self attribute, the program would not know how to reference or keep track of an instance's attributes.</p>"
   ]
  },
  {
   "cell_type": "code",
   "execution_count": 6,
   "metadata": {},
   "outputs": [],
   "source": [
    "# see above"
   ]
  },
  {
   "cell_type": "markdown",
   "metadata": {},
   "source": [
    "## Class Attributes <br>\n",
    "<p>While variables are inside of a class, they are referred to as attributes and not variables. When someone says 'attribute' you know they're speaking about a class. Attributes can be initialized through the init method, or outside of it.</p>"
   ]
  },
  {
   "cell_type": "markdown",
   "metadata": {},
   "source": [
    "##### Initializing Attributes"
   ]
  },
  {
   "cell_type": "code",
   "execution_count": 7,
   "metadata": {},
   "outputs": [],
   "source": [
    "# see above"
   ]
  },
  {
   "cell_type": "markdown",
   "metadata": {},
   "source": [
    "##### Accessing Class Attributes"
   ]
  },
  {
   "cell_type": "code",
   "execution_count": 8,
   "metadata": {
    "scrolled": true
   },
   "outputs": [
    {
     "name": "stdout",
     "output_type": "stream",
     "text": [
      "Ferrari\n"
     ]
    }
   ],
   "source": [
    "# See Above\n",
    "# __init__method or no __init__method , still the same instance_name.attribute_name syntax\n",
    "print(ferrari.make)"
   ]
  },
  {
   "cell_type": "markdown",
   "metadata": {},
   "source": [
    "##### Setting Defaults for Attributes"
   ]
  },
  {
   "cell_type": "code",
   "execution_count": 9,
   "metadata": {},
   "outputs": [
    {
     "name": "stdout",
     "output_type": "stream",
     "text": [
      "<__main__.Car object at 0x7fe0f17bb070>\n",
      "{'year': 2000, 'make': 'Ferrari', 'model': 'Enzo', 'color': 'Red', 'wheel': 4}\n",
      "<__main__.Car object at 0x7fe0f177a790>\n",
      "{'year': 1986, 'make': 'Aston Martin', 'model': 'DB5', 'color': 'Green', 'wheel': 4}\n",
      "<__main__.Car object at 0x7fe0f17bb2b0>\n",
      "{'year': 2020, 'make': 'Mclaren', 'model': 'P1', 'color': 'Orange/Black', 'wheel': 4}\n"
     ]
    }
   ],
   "source": [
    "class Car: \n",
    "    def __init__(self, year, make,model,color): #has 2 underscores before and after, predefined method with specific purpose, must be (self)\n",
    "        self.year = year\n",
    "        self.make = make\n",
    "        self.model = model\n",
    "        self.color = color\n",
    "        self.wheel = 4 # the wheels attricute is given a literal value of 4 instead of asking for input \n",
    "\n",
    "#self is the placeholder for the anme of the instance/object \n",
    "ferrari = Car(2000,'Ferrari','Enzo','Red')\n",
    "print(ferrari)\n",
    "print(ferrari.__dict__)\n",
    "\n",
    "# # the oject.__dict__ special atrribute takes our class' attricutes and puts them in a dictionary for us \n",
    "aston = Car(1986, 'Aston Martin', 'DB5', 'Green')\n",
    "print(aston)\n",
    "print(aston.__dict__)\n",
    "\n",
    "\n",
    "mclaren = Car(2020,'Mclaren','P1','Orange/Black')\n",
    "print(mclaren)\n",
    "print(mclaren.__dict__)"
   ]
  },
  {
   "cell_type": "code",
   "execution_count": 10,
   "metadata": {},
   "outputs": [
    {
     "name": "stdout",
     "output_type": "stream",
     "text": [
      "<__main__.Car object at 0x7fe0f17bb100>\n",
      "{'year': 2000, 'make': 'Ferrari', 'model': 'Enzo', 'color': 'Red', 'wheels': 4}\n",
      "<__main__.Car object at 0x7fe0f17bb6a0>\n",
      "{'year': 1986, 'make': 'Aston Martin', 'model': 'DB5', 'color': 'Green', 'wheels': 3}\n",
      "<__main__.Car object at 0x7fe0f17bb040>\n",
      "{'year': 2020, 'make': 'Mclaren', 'model': 'P1', 'color': 'Black', 'wheels': 6}\n"
     ]
    }
   ],
   "source": [
    "class Car: \n",
    "    def __init__(self, year, make,model,color='Black',wheels=4): #defaults to 4 if not specified\n",
    "        self.year = year\n",
    "        self.make = make\n",
    "        self.model = model\n",
    "        self.color = color\n",
    "        self.wheels = wheels \n",
    "\n",
    "\n",
    "ferrari = Car(2000,'Ferrari','Enzo','Red')\n",
    "print(ferrari)\n",
    "print(ferrari.__dict__)\n",
    "\n",
    "\n",
    "aston = Car(1986, 'Aston Martin', 'DB5', 'Green',3) # specified 3 wheels\n",
    "print(aston)\n",
    "print(aston.__dict__)\n",
    "\n",
    "\n",
    "mclaren = Car(2020,'Mclaren','P1',wheels=6)# do this so that it will default to Black car but also keep 6 wheels \n",
    "print(mclaren)\n",
    "print(mclaren.__dict__)\n",
    "\n",
    "#use conditional arguemnts, don't use keywords unless you HAVE to"
   ]
  },
  {
   "cell_type": "code",
   "execution_count": 13,
   "metadata": {},
   "outputs": [
    {
     "name": "stdout",
     "output_type": "stream",
     "text": [
      "<__main__.Example object at 0x7fe0f17b0d60>\n"
     ]
    }
   ],
   "source": [
    "class Example:\n",
    "    def __init__(self):\n",
    "        pass\n",
    "    \n",
    "test = Example()\n",
    "print(test)"
   ]
  },
  {
   "cell_type": "markdown",
   "metadata": {},
   "source": [
    "##### Changing Class Attributes <br>\n",
    "<p>Keep in mind there are global class attributes and then there are attributes only available to each class instance which won't effect other classes.</p>"
   ]
  },
  {
   "cell_type": "code",
   "execution_count": 16,
   "metadata": {},
   "outputs": [
    {
     "name": "stdout",
     "output_type": "stream",
     "text": [
      "<__main__.Car object at 0x7fe0f17bb040>\n",
      "['This Mclaren can have the following number of wheels', 1, 2, 3, 4, 5, 6]\n",
      "['This Mclaren can have the following number of wheels', 1, 2, 3, 4, 5, 6]\n",
      "{'year': 2020, 'make': 'Mclaren', 'model': 'P1', 'color': 'Black', 'wheels': ['This Mclaren can have the following number of wheels', 1, 2, 3, 4, 5, 6]}\n"
     ]
    }
   ],
   "source": [
    "print(mclaren)\n",
    "print(mclaren.wheels)\n",
    "mclaren.wheels = ['This Mclaren can have the following number of wheels',1,2,3,4,5,6]\n",
    "print(mclaren.wheels)\n",
    "print(mclaren.__dict__)"
   ]
  },
  {
   "cell_type": "code",
   "execution_count": null,
   "metadata": {},
   "outputs": [],
   "source": []
  },
  {
   "cell_type": "markdown",
   "metadata": {},
   "source": [
    "##### In-Class Exercise #2 - Add a doors and seats attribute to your 'Car' class then print out two different instances with different doors and seats"
   ]
  },
  {
   "cell_type": "code",
   "execution_count": 20,
   "metadata": {},
   "outputs": [
    {
     "name": "stdout",
     "output_type": "stream",
     "text": [
      "{'year': 2019, 'make': 'Honda', 'model': 'Civic', 'color': 'Black', 'wheels': '4', 'doors': '4', 'seats': '4'}\n",
      "{'year': 2014, 'make': 'Fiat', 'model': 'Pop 500', 'color': 'White', 'wheels': 4, 'doors': 2, 'seats': 4}\n"
     ]
    }
   ],
   "source": [
    "class Car: \n",
    "    def __init__(self, year, make,model,color,wheels='4',doors='4',seats='4'): \n",
    "        self.year = year\n",
    "        self.make = make\n",
    "        self.model = model\n",
    "        self.color = color\n",
    "        self.wheels = wheels \n",
    "        self.doors = doors\n",
    "        self.seats = seats\n",
    "\n",
    "\n",
    "honda = Car(2019,'Honda','Civic','Black')\n",
    "print(honda.__dict__)\n",
    "\n",
    "fiat = Car(2014,'Fiat','Pop 500','White',4,2,4)\n",
    "print(fiat.__dict__)\n",
    "\n",
    "\n",
    "\n",
    "\n",
    "\n"
   ]
  },
  {
   "cell_type": "markdown",
   "metadata": {},
   "source": [
    "## Class Methods <br>\n",
    "<p>While inside of a class, functions are referred to as 'methods'. If you hear someone mention methods, they're speaking about classes. Methods are essentially functions, but only callable on the instances of a class.</p>"
   ]
  },
  {
   "cell_type": "markdown",
   "metadata": {},
   "source": [
    "##### Creating"
   ]
  },
  {
   "cell_type": "code",
   "execution_count": 20,
   "metadata": {},
   "outputs": [
    {
     "name": "stdout",
     "output_type": "stream",
     "text": [
      "<__main__.Car object at 0x7fdac374ce80>\n",
      "{'year': 2021, 'make': 'Alpine', 'model': 'some french name', 'color': 'Blue', 'wheels': '4', 'doors': '2', 'seats': '2', 'age': 0}\n",
      "\n",
      "Yahoo This is a Blue 2021 Alpine some french name with 4 wheels, 2 doors, and 2 seats.\n",
      "\n",
      "<__main__.Car object at 0x7fdac374c820>\n",
      "{'year': 1999, 'make': 'Porsche', 'model': '911 Carrera S', 'color': 'Grey', 'wheels': '4', 'doors': '2', 'seats': '2', 'age': 22}\n",
      "\n",
      "Your Porsche 911 Carrera S is now a year older. it is 23.\n",
      "Your Porsche 911 Carrera S is now a year older. it is 24.\n",
      "Your Porsche 911 Carrera S is now a year older. it is 25.\n",
      "Your Porsche 911 Carrera S is now a year older. it is 26.\n",
      "Your Porsche 911 Carrera S is now a year older. it is 27.\n",
      "\n",
      "your Porsche 911 Carrera S has been repainted from Grey to Yellow.\n"
     ]
    }
   ],
   "source": [
    "class Car: \n",
    "    def __init__(self, year, make,model,color='Black',wheels='4',doors='2',seats='2'): \n",
    "        self.year = year\n",
    "        self.make = make\n",
    "        self.model = model\n",
    "        self.color = color\n",
    "        self.wheels = wheels \n",
    "        self.doors = doors\n",
    "        self.seats = seats\n",
    "        self.age = 2021-year\n",
    "    \n",
    "    def display(self, a):\n",
    "        print(f'{a} This is a {self.color} {self.year} {self.make} {self.model} with {self.wheels} wheels, {self.doors} doors, and {self.seats} seats.')\n",
    "    \n",
    "    def setColor(self,newColor):\n",
    "        oldcolor = self.color\n",
    "        self.color = newColor\n",
    "        print(f'your {self.make} {self.model} has been repainted from {oldcolor} to {self.color}.')\n",
    "        \n",
    "    def older(self):\n",
    "        self.age += 1\n",
    "        print(f'Your {self.make} {self.model} is now a year older. it is {self.age}.')\n",
    "    \n",
    "\n",
    "\n",
    "alpine = Car(2021,'Alpine','some french name','Blue',)\n",
    "print(alpine)\n",
    "print(alpine.__dict__)\n",
    "print()\n",
    "alpine.display('Yahoo')\n",
    "\n",
    "print()\n",
    "carrera = Car(1999,'Porsche','911 Carrera S','Grey')\n",
    "print(carrera)\n",
    "print(carrera.__dict__)\n",
    "print()\n",
    "for i in range(5):\n",
    "    carrera.older()\n",
    "print() #adds a space intween the outputed lines \n",
    "carrera.setColor(\"Yellow\")\n"
   ]
  },
  {
   "cell_type": "markdown",
   "metadata": {},
   "source": [
    "##### Calling"
   ]
  },
  {
   "cell_type": "code",
   "execution_count": null,
   "metadata": {},
   "outputs": [],
   "source": [
    "# See Above"
   ]
  },
  {
   "cell_type": "markdown",
   "metadata": {},
   "source": [
    "##### Modifying an Attribute's Value Through a Method"
   ]
  },
  {
   "cell_type": "code",
   "execution_count": null,
   "metadata": {},
   "outputs": [],
   "source": []
  },
  {
   "cell_type": "markdown",
   "metadata": {},
   "source": [
    "##### Incrementing an Attribute's Value Through a Method"
   ]
  },
  {
   "cell_type": "code",
   "execution_count": 15,
   "metadata": {},
   "outputs": [
    {
     "name": "stdout",
     "output_type": "stream",
     "text": [
      "<__main__.Car object at 0x7fdac36a1df0>\n",
      "{'year': 1999, 'make': 'Porsche', 'model': '911 Carrera S', 'color': 'Grey', 'wheels': '4', 'doors': '2', 'seats': '2', 'age': 22}\n",
      "Your Porsche 911 Carrera S is now a year older. it is 23.\n",
      "Your Porsche 911 Carrera S is now a year older. it is 24.\n",
      "Your Porsche 911 Carrera S is now a year older. it is 25.\n",
      "Your Porsche 911 Carrera S is now a year older. it is 26.\n",
      "Your Porsche 911 Carrera S is now a year older. it is 27.\n",
      "<__main__.Car object at 0x7fdac36a1760>\n",
      "{'year': 2021, 'make': 'Alpine', 'model': 'some french name', 'color': 'Blue', 'wheels': '4', 'doors': '2', 'seats': '2', 'age': 0}\n",
      "\n",
      "Yahoo This is a Blue 2021 Alpine some french name with 4 wheels, 2 doors, and 2 seats.\n",
      "\n",
      "your Porsche 911 Carrera S has been repainted from Grey to Yellow.\n"
     ]
    }
   ],
   "source": [
    "class Car: \n",
    "    def __init__(self, year, make,model,color='Black',wheels='4',doors='2',seats='2'): \n",
    "        self.year = year\n",
    "        self.make = make\n",
    "        self.model = model\n",
    "        self.color = color\n",
    "        self.wheels = wheels \n",
    "        self.doors = doors\n",
    "        self.seats = seats\n",
    "        self.age = 2021-year\n",
    "    \n",
    "    def display(self, a):\n",
    "        print(f'{a} This is a {self.color} {self.year} {self.make} {self.model} with {self.wheels} wheels, {self.doors} doors, and {self.seats} seats.')\n",
    "    \n",
    "    def setColor(self,newColor):\n",
    "        oldcolor = self.color\n",
    "        self.color = newColor\n",
    "        print(f'your {self.make} {self.model} has been repainted from {oldcolor} to {self.color}.')\n",
    "        \n",
    "    def older(self):\n",
    "        self.age += 1\n",
    "        print(f'Your {self.make} {self.model} is now a year older. it is {self.age}.')\n",
    "    \n",
    "carrera = Car(1999,'Porsche','911 Carrera S','Grey')\n",
    "print(carrera)\n",
    "print(carrera.__dict__)\n",
    "\n",
    "for i in range(5):\n",
    "    carrera.older()\n",
    "\n",
    "alpine = Car(2021,'Alpine','some french name','Blue',)\n",
    "print(alpine)\n",
    "print(alpine.__dict__)\n",
    "\n",
    "print()\n",
    "alpine.display('Yahoo')\n",
    "\n",
    "print()\n",
    "carrera.setColor(\"Yellow\")"
   ]
  },
  {
   "cell_type": "markdown",
   "metadata": {},
   "source": [
    "##### In-Class Exercise #3 - Add a method that takes in three parameters of year, doors and seats and prints out a formatted print statement with make, model, year, seats, and doors"
   ]
  },
  {
   "cell_type": "code",
   "execution_count": 42,
   "metadata": {},
   "outputs": [
    {
     "name": "stdout",
     "output_type": "stream",
     "text": [
      "{'model': 'Ford', 'make': 'Explorer'}\n",
      "This car is a from 2019 and is a Ford Explorer and has 4 doors and 5 seats.\n",
      "{'model': 'Ford', 'make': 'Explorer'}\n"
     ]
    }
   ],
   "source": [
    "# Create class with 2 paramters inside of the __init__ which are make and model\n",
    "\n",
    "# Inside of the Car class create a method that has 4 parameter in total (self,year,door,seats)\n",
    "\n",
    "# Output: This car is from 2019 and is a Ford Expolorer and has 4 doors and 5 seats\n",
    "\n",
    "class Car:\n",
    "    def __init__(self, model,make):\n",
    "        self.model = model #attributes\n",
    "        self.make = make\n",
    "\n",
    "    def display(self, year, doors, seats): #don't have to define ex self.year\n",
    "        # these are parameters, are not defined in __init__ \n",
    "        print(f'This car is a from {year} and is a {self.model} {self.make} and has {doors} doors and {seats} seats.')\n",
    "\n",
    "\n",
    "        \n",
    "ford = Car('Ford','Explorer')\n",
    "print(ford.__dict__)\n",
    "ford.display(2019,4,5)\n",
    "print(ford.__dict__)\n",
    "\n",
    "\n"
   ]
  },
  {
   "cell_type": "code",
   "execution_count": null,
   "metadata": {},
   "outputs": [],
   "source": []
  },
  {
   "cell_type": "markdown",
   "metadata": {},
   "source": [
    "## Inheritance <br>\n",
    "<p>You can create a child-parent relationship between two classes by using inheritance. What this allows you to do is have overriding methods, but also inherit traits from the parent class. Think of it as an actual parent and child, the child will inherit the parent's genes, as will the classes in OOP</p>"
   ]
  },
  {
   "cell_type": "markdown",
   "metadata": {},
   "source": [
    "##### Syntax for Inheriting from a Parent Class"
   ]
  },
  {
   "cell_type": "code",
   "execution_count": null,
   "metadata": {},
   "outputs": [],
   "source": []
  },
  {
   "cell_type": "markdown",
   "metadata": {},
   "source": [
    "##### The \\__init\\__() Method for a Child Class - super()"
   ]
  },
  {
   "cell_type": "code",
   "execution_count": null,
   "metadata": {
    "scrolled": true
   },
   "outputs": [],
   "source": []
  },
  {
   "cell_type": "markdown",
   "metadata": {},
   "source": [
    "##### Defining Attributes and Methods for the Child Class"
   ]
  },
  {
   "cell_type": "code",
   "execution_count": null,
   "metadata": {},
   "outputs": [],
   "source": [
    "# See Above"
   ]
  },
  {
   "cell_type": "markdown",
   "metadata": {},
   "source": [
    "##### Method Overriding"
   ]
  },
  {
   "cell_type": "code",
   "execution_count": null,
   "metadata": {},
   "outputs": [],
   "source": [
    "# See Above"
   ]
  },
  {
   "cell_type": "markdown",
   "metadata": {},
   "source": [
    "## Classes as Attributes <br>\n",
    "<p>Classes can also be used as attributes within another class. This is useful in situations where you need to keep variables locally stored, instead of globally stored.</p>"
   ]
  },
  {
   "cell_type": "code",
   "execution_count": 3,
   "metadata": {},
   "outputs": [],
   "source": [
    "# I'm going to plan a little zoo\n",
    "# i'm going to have 4 classes\n",
    "# Zookeeper - object *will have __init__\n",
    "    # attrs: name,age\n",
    "# Zoo - object *will have __init__\n",
    "    # attrs: zookeeper, location, list of animals\n",
    "# animal - objet *will have __init__\n",
    "    # attrs: name, habitat, description\n",
    "# main class - not an object, just where I put my instantiations/driver code\n",
    "\n",
    "# do i make an attribute or a method?\n",
    "# if what u are doing is a characterist or piece of date or attribute\n",
    "# if what you are doing is process or an action its gonna be a method/function\n",
    "# an attribute is something that a class has\n",
    "# a method is something that a class does \n",
    "\n",
    "# start with skeleton code\n",
    "\n",
    "\n",
    "class Animal:\n",
    "    def __init__(self,name,habitat,descript):\n",
    "        self.name = name\n",
    "        self.habitat = habitat\n",
    "        self.descript = descript\n",
    "        pass\n",
    "    \n",
    "    def display(self):\n",
    "        print(f'The {self.name} lives in the {self.habitat}. The {self.name} is {self.descript}')\n",
    "\n",
    "class Zookeeper:\n",
    "    def __init__(self,name,age):\n",
    "        self.name = name\n",
    "        self.age = age \n",
    "        pass\n",
    "\n",
    "class Zoo:\n",
    "    def __init__(self,location,zookeeper):\n",
    "        self.zookeeper = zookeeper\n",
    "        self.location = location\n",
    "        self.animals = []\n",
    "        pass\n",
    "    \n",
    "    #goals: write a method that accepts inptu of zoo(self) and the name of the animal\n",
    "    # the zoo should either tell you it doesn't have that animal or it should show you the  dispaly info\n",
    "    \n",
    "    def findAnimal(self,a_name):\n",
    "        #loop thru animals, compare provided anme to each animal object's name\n",
    "        for a in self.animals:\n",
    "            if a.name == a_name.title():\n",
    "                a.display()\n",
    "                return\n",
    "        print(f\"Sorry, we don't have that animal at this Zoo. Someone tell Zookeeper {self.zookeeper.name} to go buy one.\")\n",
    "\n",
    "class Main:\n",
    "    @classmethod #let's us run this run method without instantiating the Main class\n",
    "    def run(self):\n",
    "        #instantiation \n",
    "        #logical code, utilizes classes thru this\n",
    "        fennec = Animal('Fennec Fox','desert','a small, large-eared fox native to the deserts of Africa.')\n",
    "        rat = Animal('Rat','kitchen','talented little chef-especially if named Remy.')\n",
    "        bear = Animal('Polar Bear','artic tundra','a cute and cuddly animal that may rip your face off.')\n",
    "        ego = Zookeeper('Anton Ego',47)\n",
    "        azoo = Zoo('Paris,France',ego)\n",
    "        azoo.animals.append(fennec)\n",
    "        azoo.animals.append(rat)\n",
    "        azoo.animals.append(bear)\n",
    "        while True:\n",
    "            look = input('What animal do you want to see? (q if you want to leave)')\n",
    "            if look.lower() == 'q':\n",
    "                break\n",
    "            azoo.findAnimal(look)\n",
    "        print(f\"Thank you for visiting {azoo.zookeeper.name}'s zoo in {azoo.location}.\")\n",
    "    \n",
    "    \n",
    "\n"
   ]
  },
  {
   "cell_type": "code",
   "execution_count": null,
   "metadata": {},
   "outputs": [],
   "source": [
    "Main.run() # can into the bottom of the main code but can also be here\n",
    "# this will help look at errors if any, makes testing process easier"
   ]
  },
  {
   "cell_type": "markdown",
   "metadata": {},
   "source": [
    "# Exercises"
   ]
  },
  {
   "cell_type": "markdown",
   "metadata": {},
   "source": [
    "### Exercise 1 - Turn the shopping cart program from yesterday into an object-oriented program\n",
    "\n",
    "The comments in the cell below are there as a guide for thinking about the problem. However, if you feel a different way is best for you and your own thought process, please do what feels best for you by all means."
   ]
  },
  {
   "cell_type": "code",
   "execution_count": null,
   "metadata": {},
   "outputs": [],
   "source": [
    "# Create a class called cart that retains items and has methods to add, remove, and show\n",
    "# pokedex(+)\n",
    "#classes :\n",
    "    #Pokemon self, name, type, level\n",
    "    #Trainers self, name,age \n",
    "    #Stadiums self, stadium, regions\n",
    "    \n",
    "#method: list moves? list weaknesses? \n",
    "    \n",
    "# cart = which pokemon to battle with\n",
    "class pokemon:\n",
    "    def __init_(self, pokename,poketype,level):\n",
    "    self.pokename = \"pokename\"\n",
    "    self.poketype = \"poketype\"\n",
    "    self.level = \"level\"\n",
    "    pass\n",
    "\n",
    "    def display (f' This {self.pokename.title.()} is a {self.level} at Level {self.level}')\n",
    "\n",
    "class trainers:\n",
    "    def __init__(self, name, age):\n",
    "    self.name = \"name\"\n",
    "    self.age = \"age\"\n",
    "    pass\n",
    "    \n",
    "    def display (f'Your opponent will be {self.name}, aged {self.age} years old.')\n",
    "    \n",
    "class location:\n",
    "    def __init__(self, stadium, region, descript):\n",
    "    self.stadium = \"stadium\"\n",
    "    self.region = \"region\"\n",
    "    self.descript = \"descript\"\n",
    "    pass\n",
    "\n",
    "pikachu = ('Pikachu','Electric',35)\n",
    "\n",
    "\n",
    "    "
   ]
  },
  {
   "cell_type": "markdown",
   "metadata": {},
   "source": [
    "### Exercise 2 - Write a Python class which has two methods get_String and print_String. get_String accept a string from the user and print_String print the string in upper case"
   ]
  },
  {
   "cell_type": "code",
   "execution_count": null,
   "metadata": {},
   "outputs": [],
   "source": []
  }
 ],
 "metadata": {
  "kernelspec": {
   "display_name": "Python 3",
   "language": "python",
   "name": "python3"
  },
  "language_info": {
   "codemirror_mode": {
    "name": "ipython",
    "version": 3
   },
   "file_extension": ".py",
   "mimetype": "text/x-python",
   "name": "python",
   "nbconvert_exporter": "python",
   "pygments_lexer": "ipython3",
   "version": "3.8.8"
  }
 },
 "nbformat": 4,
 "nbformat_minor": 2
}
